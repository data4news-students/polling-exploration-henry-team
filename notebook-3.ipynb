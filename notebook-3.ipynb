{
 "cells": [
  {
   "cell_type": "markdown",
   "metadata": {},
   "source": [
    "# Python and R"
   ]
  },
  {
   "cell_type": "code",
   "execution_count": 1,
   "metadata": {},
   "outputs": [],
   "source": [
    "%load_ext rpy2.ipython\n",
    "%load_ext autoreload\n",
    "%autoreload 2\n",
    "\n",
    "%matplotlib inline  \n",
    "from matplotlib import rcParams\n",
    "rcParams['figure.figsize'] = (16, 100)\n",
    "\n",
    "import warnings\n",
    "from rpy2.rinterface import RRuntimeWarning\n",
    "warnings.filterwarnings(\"ignore\") # Ignore all warnings\n",
    "# warnings.filterwarnings(\"ignore\", category=RRuntimeWarning) # Show some warnings\n",
    "\n",
    "import pandas as pd\n",
    "import numpy as np\n",
    "import matplotlib.pyplot as plt\n",
    "from IPython.display import display, HTML\n",
    "\n",
    "# show all columns on pandas dataframes\n",
    "pd.set_option('display.max_columns', None)\n"
   ]
  },
  {
   "cell_type": "code",
   "execution_count": 2,
   "metadata": {},
   "outputs": [
    {
     "data": {
      "application/javascript": [
       "// Disable auto-scrolling\n",
       "IPython.OutputArea.prototype._should_scroll = function(lines) {\n",
       "    return false;\n",
       "}\n"
      ],
      "text/plain": [
       "<IPython.core.display.Javascript object>"
      ]
     },
     "metadata": {},
     "output_type": "display_data"
    }
   ],
   "source": [
    "%%javascript\n",
    "// Disable auto-scrolling\n",
    "IPython.OutputArea.prototype._should_scroll = function(lines) {\n",
    "    return false;\n",
    "}"
   ]
  },
  {
   "cell_type": "code",
   "execution_count": 3,
   "metadata": {},
   "outputs": [
    {
     "name": "stderr",
     "output_type": "stream",
     "text": [
      "R[write to console]: Loading required package: tidyverse\n",
      "\n"
     ]
    },
    {
     "name": "stdout",
     "output_type": "stream",
     "text": [
      "── Attaching packages ─────────────────────────────────────── tidyverse 1.3.2 ──\n",
      "✔ ggplot2 3.4.0      ✔ purrr   0.3.5 \n",
      "✔ tibble  3.1.8      ✔ dplyr   1.0.10\n",
      "✔ tidyr   1.2.1      ✔ stringr 1.4.1 \n",
      "✔ readr   2.1.3      ✔ forcats 0.5.2 \n",
      "── Conflicts ────────────────────────────────────────── tidyverse_conflicts() ──\n",
      "✖ dplyr::filter() masks stats::filter()\n",
      "✖ dplyr::lag()    masks stats::lag()\n"
     ]
    }
   ],
   "source": [
    "%%R\n",
    "\n",
    "# My commonly used R imports\n",
    "\n",
    "require('tidyverse')\n"
   ]
  },
  {
   "cell_type": "markdown",
   "metadata": {},
   "source": [
    "\n",
    "# Read the data\n",
    "\n"
   ]
  },
  {
   "cell_type": "markdown",
   "metadata": {},
   "source": [
    "The cell below loads the data in python:"
   ]
  },
  {
   "cell_type": "code",
   "execution_count": 4,
   "metadata": {},
   "outputs": [
    {
     "data": {
      "text/html": [
       "<div>\n",
       "<style scoped>\n",
       "    .dataframe tbody tr th:only-of-type {\n",
       "        vertical-align: middle;\n",
       "    }\n",
       "\n",
       "    .dataframe tbody tr th {\n",
       "        vertical-align: top;\n",
       "    }\n",
       "\n",
       "    .dataframe thead th {\n",
       "        text-align: right;\n",
       "    }\n",
       "</style>\n",
       "<table border=\"1\" class=\"dataframe\">\n",
       "  <thead>\n",
       "    <tr style=\"text-align: right;\">\n",
       "      <th></th>\n",
       "      <th>poll_id</th>\n",
       "      <th>question_id</th>\n",
       "      <th>race_id</th>\n",
       "      <th>year</th>\n",
       "      <th>race</th>\n",
       "      <th>location</th>\n",
       "      <th>type_simple</th>\n",
       "      <th>type_detail</th>\n",
       "      <th>pollster</th>\n",
       "      <th>pollster_rating_id</th>\n",
       "      <th>methodology</th>\n",
       "      <th>partisan</th>\n",
       "      <th>polldate</th>\n",
       "      <th>samplesize</th>\n",
       "      <th>cand1_name</th>\n",
       "      <th>cand1_id</th>\n",
       "      <th>cand1_party</th>\n",
       "      <th>cand1_pct</th>\n",
       "      <th>cand2_name</th>\n",
       "      <th>cand2_id</th>\n",
       "      <th>cand2_party</th>\n",
       "      <th>cand2_pct</th>\n",
       "      <th>cand3_pct</th>\n",
       "      <th>margin_poll</th>\n",
       "      <th>electiondate</th>\n",
       "      <th>cand1_actual</th>\n",
       "      <th>cand2_actual</th>\n",
       "      <th>margin_actual</th>\n",
       "      <th>bias</th>\n",
       "      <th>rightcall</th>\n",
       "      <th>comment</th>\n",
       "    </tr>\n",
       "  </thead>\n",
       "  <tbody>\n",
       "    <tr>\n",
       "      <th>3183</th>\n",
       "      <td>55745</td>\n",
       "      <td>89297</td>\n",
       "      <td>1355</td>\n",
       "      <td>2006</td>\n",
       "      <td>2006_Gov-G_SC</td>\n",
       "      <td>SC</td>\n",
       "      <td>Gov-G</td>\n",
       "      <td>Gov-G</td>\n",
       "      <td>SurveyUSA</td>\n",
       "      <td>325</td>\n",
       "      <td>IVR</td>\n",
       "      <td>NaN</td>\n",
       "      <td>11/3/06</td>\n",
       "      <td>485.0</td>\n",
       "      <td>Tommy Moore</td>\n",
       "      <td>12752</td>\n",
       "      <td>DEM</td>\n",
       "      <td>40.0</td>\n",
       "      <td>Mark Sanford</td>\n",
       "      <td>12753</td>\n",
       "      <td>REP</td>\n",
       "      <td>57.0</td>\n",
       "      <td>NaN</td>\n",
       "      <td>-17.0</td>\n",
       "      <td>11/7/06</td>\n",
       "      <td>44.79</td>\n",
       "      <td>55.12</td>\n",
       "      <td>-10.33</td>\n",
       "      <td>-6.67</td>\n",
       "      <td>1.0</td>\n",
       "      <td>NaN</td>\n",
       "    </tr>\n",
       "    <tr>\n",
       "      <th>5193</th>\n",
       "      <td>73913</td>\n",
       "      <td>138680</td>\n",
       "      <td>4717</td>\n",
       "      <td>2010</td>\n",
       "      <td>2010_House-G_NM-1</td>\n",
       "      <td>NM-1</td>\n",
       "      <td>House-G</td>\n",
       "      <td>House-G</td>\n",
       "      <td>ccAdvertising</td>\n",
       "      <td>396</td>\n",
       "      <td>IVR</td>\n",
       "      <td>NaN</td>\n",
       "      <td>10/18/10</td>\n",
       "      <td>600.0</td>\n",
       "      <td>Martin Heinrich</td>\n",
       "      <td>10891</td>\n",
       "      <td>DEM</td>\n",
       "      <td>39.9</td>\n",
       "      <td>Jonathan L. Barela</td>\n",
       "      <td>10892</td>\n",
       "      <td>REP</td>\n",
       "      <td>47.4</td>\n",
       "      <td>NaN</td>\n",
       "      <td>-7.5</td>\n",
       "      <td>11/2/10</td>\n",
       "      <td>51.80</td>\n",
       "      <td>48.20</td>\n",
       "      <td>3.61</td>\n",
       "      <td>-11.11</td>\n",
       "      <td>0.0</td>\n",
       "      <td>sample size unavailable; estimated at 600 as a...</td>\n",
       "    </tr>\n",
       "    <tr>\n",
       "      <th>4512</th>\n",
       "      <td>16583</td>\n",
       "      <td>29313</td>\n",
       "      <td>1577</td>\n",
       "      <td>2008</td>\n",
       "      <td>2008_Sen-G_VA</td>\n",
       "      <td>VA</td>\n",
       "      <td>Sen-G</td>\n",
       "      <td>Sen-G</td>\n",
       "      <td>CNN/Opinion Research Corp.</td>\n",
       "      <td>37</td>\n",
       "      <td>Live Phone</td>\n",
       "      <td>NaN</td>\n",
       "      <td>10/26/08</td>\n",
       "      <td>721.0</td>\n",
       "      <td>Mark R. Warner</td>\n",
       "      <td>2808</td>\n",
       "      <td>DEM</td>\n",
       "      <td>63.0</td>\n",
       "      <td>James S. Gilmore III</td>\n",
       "      <td>2809</td>\n",
       "      <td>REP</td>\n",
       "      <td>35.0</td>\n",
       "      <td>NaN</td>\n",
       "      <td>28.0</td>\n",
       "      <td>11/4/08</td>\n",
       "      <td>65.03</td>\n",
       "      <td>33.73</td>\n",
       "      <td>31.30</td>\n",
       "      <td>-3.30</td>\n",
       "      <td>1.0</td>\n",
       "      <td>for CNN</td>\n",
       "    </tr>\n",
       "    <tr>\n",
       "      <th>2687</th>\n",
       "      <td>4090</td>\n",
       "      <td>29978</td>\n",
       "      <td>1591</td>\n",
       "      <td>2006</td>\n",
       "      <td>2006_Sen-G_MI</td>\n",
       "      <td>MI</td>\n",
       "      <td>Sen-G</td>\n",
       "      <td>Sen-G</td>\n",
       "      <td>Strategic Vision LLC</td>\n",
       "      <td>320</td>\n",
       "      <td>Live Phone</td>\n",
       "      <td>NaN</td>\n",
       "      <td>10/22/06</td>\n",
       "      <td>1200.0</td>\n",
       "      <td>Debbie Stabenow</td>\n",
       "      <td>2915</td>\n",
       "      <td>DEM</td>\n",
       "      <td>48.0</td>\n",
       "      <td>Mike Bouchard</td>\n",
       "      <td>2916</td>\n",
       "      <td>REP</td>\n",
       "      <td>42.0</td>\n",
       "      <td>NaN</td>\n",
       "      <td>6.0</td>\n",
       "      <td>11/7/06</td>\n",
       "      <td>56.91</td>\n",
       "      <td>41.26</td>\n",
       "      <td>15.65</td>\n",
       "      <td>-9.65</td>\n",
       "      <td>1.0</td>\n",
       "      <td>NaN</td>\n",
       "    </tr>\n",
       "    <tr>\n",
       "      <th>5536</th>\n",
       "      <td>51730</td>\n",
       "      <td>81778</td>\n",
       "      <td>4571</td>\n",
       "      <td>2010</td>\n",
       "      <td>2010_House-G_FL-25</td>\n",
       "      <td>FL-25</td>\n",
       "      <td>House-G</td>\n",
       "      <td>House-G</td>\n",
       "      <td>Susquehanna Polling &amp; Research Inc.</td>\n",
       "      <td>326</td>\n",
       "      <td>IVR</td>\n",
       "      <td>NaN</td>\n",
       "      <td>10/26/10</td>\n",
       "      <td>700.0</td>\n",
       "      <td>Joe Garcia</td>\n",
       "      <td>10754</td>\n",
       "      <td>DEM</td>\n",
       "      <td>43.0</td>\n",
       "      <td>David Rivera</td>\n",
       "      <td>10755</td>\n",
       "      <td>REP</td>\n",
       "      <td>44.0</td>\n",
       "      <td>6.0</td>\n",
       "      <td>-1.0</td>\n",
       "      <td>11/2/10</td>\n",
       "      <td>42.59</td>\n",
       "      <td>52.15</td>\n",
       "      <td>-9.56</td>\n",
       "      <td>8.56</td>\n",
       "      <td>1.0</td>\n",
       "      <td>NaN</td>\n",
       "    </tr>\n",
       "  </tbody>\n",
       "</table>\n",
       "</div>"
      ],
      "text/plain": [
       "      poll_id  question_id  race_id  year                race location  \\\n",
       "3183    55745        89297     1355  2006       2006_Gov-G_SC       SC   \n",
       "5193    73913       138680     4717  2010   2010_House-G_NM-1     NM-1   \n",
       "4512    16583        29313     1577  2008       2008_Sen-G_VA       VA   \n",
       "2687     4090        29978     1591  2006       2006_Sen-G_MI       MI   \n",
       "5536    51730        81778     4571  2010  2010_House-G_FL-25    FL-25   \n",
       "\n",
       "     type_simple type_detail                             pollster  \\\n",
       "3183       Gov-G       Gov-G                            SurveyUSA   \n",
       "5193     House-G     House-G                        ccAdvertising   \n",
       "4512       Sen-G       Sen-G           CNN/Opinion Research Corp.   \n",
       "2687       Sen-G       Sen-G                 Strategic Vision LLC   \n",
       "5536     House-G     House-G  Susquehanna Polling & Research Inc.   \n",
       "\n",
       "      pollster_rating_id methodology partisan  polldate  samplesize  \\\n",
       "3183                 325         IVR      NaN   11/3/06       485.0   \n",
       "5193                 396         IVR      NaN  10/18/10       600.0   \n",
       "4512                  37  Live Phone      NaN  10/26/08       721.0   \n",
       "2687                 320  Live Phone      NaN  10/22/06      1200.0   \n",
       "5536                 326         IVR      NaN  10/26/10       700.0   \n",
       "\n",
       "           cand1_name  cand1_id cand1_party  cand1_pct            cand2_name  \\\n",
       "3183      Tommy Moore     12752         DEM       40.0          Mark Sanford   \n",
       "5193  Martin Heinrich     10891         DEM       39.9    Jonathan L. Barela   \n",
       "4512   Mark R. Warner      2808         DEM       63.0  James S. Gilmore III   \n",
       "2687  Debbie Stabenow      2915         DEM       48.0         Mike Bouchard   \n",
       "5536       Joe Garcia     10754         DEM       43.0          David Rivera   \n",
       "\n",
       "      cand2_id cand2_party  cand2_pct  cand3_pct  margin_poll electiondate  \\\n",
       "3183     12753         REP       57.0        NaN        -17.0      11/7/06   \n",
       "5193     10892         REP       47.4        NaN         -7.5      11/2/10   \n",
       "4512      2809         REP       35.0        NaN         28.0      11/4/08   \n",
       "2687      2916         REP       42.0        NaN          6.0      11/7/06   \n",
       "5536     10755         REP       44.0        6.0         -1.0      11/2/10   \n",
       "\n",
       "      cand1_actual  cand2_actual  margin_actual   bias  rightcall  \\\n",
       "3183         44.79         55.12         -10.33  -6.67        1.0   \n",
       "5193         51.80         48.20           3.61 -11.11        0.0   \n",
       "4512         65.03         33.73          31.30  -3.30        1.0   \n",
       "2687         56.91         41.26          15.65  -9.65        1.0   \n",
       "5536         42.59         52.15          -9.56   8.56        1.0   \n",
       "\n",
       "                                                comment  \n",
       "3183                                                NaN  \n",
       "5193  sample size unavailable; estimated at 600 as a...  \n",
       "4512                                            for CNN  \n",
       "2687                                                NaN  \n",
       "5536                                                NaN  "
      ]
     },
     "execution_count": 4,
     "metadata": {},
     "output_type": "execute_result"
    }
   ],
   "source": [
    "df = pd.read_csv('raw-polls.csv')\n",
    "df.sample(5)"
   ]
  },
  {
   "cell_type": "markdown",
   "metadata": {},
   "source": [
    "The cell below loads the same data in R:"
   ]
  },
  {
   "cell_type": "code",
   "execution_count": 5,
   "metadata": {},
   "outputs": [
    {
     "name": "stdout",
     "output_type": "stream",
     "text": [
      "Rows: 10776 Columns: 31\n",
      "── Column specification ────────────────────────────────────────────────────────\n",
      "Delimiter: \",\"\n",
      "chr (14): race, location, type_simple, type_detail, pollster, methodology, p...\n",
      "dbl (17): poll_id, question_id, race_id, year, pollster_rating_id, samplesiz...\n",
      "\n",
      "ℹ Use `spec()` to retrieve the full column specification for this data.\n",
      "ℹ Specify the column types or set `show_col_types = FALSE` to quiet this message.\n",
      "# A tibble: 10,776 × 31\n",
      "   poll_id questio…¹ race_id  year race  locat…² type_…³ type_…⁴ polls…⁵ polls…⁶\n",
      "     <dbl>     <dbl>   <dbl> <dbl> <chr> <chr>   <chr>   <chr>   <chr>     <dbl>\n",
      " 1   26013     87909    1455  1998 1998… NY      Gov-G   Gov-G   Blum &…      32\n",
      " 2   26255     87926    1456  1998 1998… OH      Gov-G   Gov-G   Univer…     346\n",
      " 3   26026     31266    1736  1998 1998… NV      Sen-G   Sen-G   FM3 Re…      91\n",
      " 4   26013     31253    1738  1998 1998… NY      Sen-G   Sen-G   Blum &…      32\n",
      " 5   63632    117103    1738  1998 1998… NY      Sen-G   Sen-G   Garin-…     113\n",
      " 6   26255     31495    1741  1998 1998… OH      Sen-G   Sen-G   Univer…     346\n",
      " 7   64053    117875    1966  1998 1998… ID-1    House-G House-G Garin-…     113\n",
      " 8   64053    117876    1967  1998 1998… ID-2    House-G House-G Garin-…     113\n",
      " 9   28268     33546    8661  1998 1998… US      House-G House-G CBS Ne…      36\n",
      "10   28267     33545    8661  1998 1998… US      House-G House-G Zogby …     395\n",
      "# … with 10,766 more rows, 21 more variables: methodology <chr>,\n",
      "#   partisan <chr>, polldate <chr>, samplesize <dbl>, cand1_name <chr>,\n",
      "#   cand1_id <dbl>, cand1_party <chr>, cand1_pct <dbl>, cand2_name <chr>,\n",
      "#   cand2_id <dbl>, cand2_party <chr>, cand2_pct <dbl>, cand3_pct <dbl>,\n",
      "#   margin_poll <dbl>, electiondate <chr>, cand1_actual <dbl>,\n",
      "#   cand2_actual <dbl>, margin_actual <dbl>, bias <dbl>, rightcall <dbl>,\n",
      "#   comment <chr>, and abbreviated variable names ¹​question_id, ²​location, …\n",
      "# ℹ Use `print(n = ...)` to see more rows, and `colnames()` to see all variable names\n"
     ]
    }
   ],
   "source": [
    "%%R\n",
    "\n",
    "df <- read_csv('raw-polls.csv')\n",
    "\n",
    "df"
   ]
  },
  {
   "cell_type": "markdown",
   "metadata": {},
   "source": [
    "# Guided Exploration\n",
    "\n",
    "In this section you'll make a few charts to explore the data. Here I will raise some questions for you to dig around in the data and answer. You can use summary statistics and/or charts to help answer the questions. You will have to make some methodological choices along the way. Be aware of what choices you're making! I'll ask you about them shortly.\n",
    "\n",
    "\n",
    "## Question 1: How accurate are polls from the following pollsters?\n",
    "Characterize the accuracy of each of these pollsters in a sentence or two. Then, write another few sentences justifying your characterization with insights from the data.\n",
    "- Siena College/The New York Times Upshot\n",
    "- Jayhawk Consulting\n",
    "- Fox News/Beacon Research/Shaw & Co. Research\n",
    "- Brown University\n",
    "- American Research Group\n"
   ]
  },
  {
   "cell_type": "markdown",
   "metadata": {},
   "source": [
    "👉 **Siena College/The New York Times Upshot** "
   ]
  },
  {
   "cell_type": "code",
   "execution_count": 11,
   "metadata": {},
   "outputs": [
    {
     "data": {
      "text/plain": [
       "count    82.000000\n",
       "mean      1.422927\n",
       "std       5.219059\n",
       "min     -15.010000\n",
       "25%      -2.075000\n",
       "50%       1.515000\n",
       "75%       5.125000\n",
       "max      11.200000\n",
       "Name: bias, dtype: float64"
      ]
     },
     "execution_count": 11,
     "metadata": {},
     "output_type": "execute_result"
    }
   ],
   "source": [
    "df.loc[(df.pollster == 'Siena College/The New York Times Upshot')]['bias'].describe()"
   ]
  },
  {
   "cell_type": "code",
   "execution_count": null,
   "metadata": {},
   "outputs": [],
   "source": []
  },
  {
   "cell_type": "markdown",
   "metadata": {},
   "source": [
    "👉 **Jayhawk Consulting**"
   ]
  },
  {
   "cell_type": "code",
   "execution_count": 14,
   "metadata": {},
   "outputs": [
    {
     "data": {
      "text/plain": [
       "count     2.000000\n",
       "mean     37.615000\n",
       "std       7.530687\n",
       "min      32.290000\n",
       "25%      34.952500\n",
       "50%      37.615000\n",
       "75%      40.277500\n",
       "max      42.940000\n",
       "Name: bias, dtype: float64"
      ]
     },
     "execution_count": 14,
     "metadata": {},
     "output_type": "execute_result"
    }
   ],
   "source": [
    "df.loc[(df.pollster == 'Jayhawk Consulting Services')]['bias'].describe()"
   ]
  },
  {
   "cell_type": "code",
   "execution_count": null,
   "metadata": {},
   "outputs": [],
   "source": []
  },
  {
   "cell_type": "markdown",
   "metadata": {},
   "source": [
    "👉 **Fox News/Beacon Research/Shaw & Co. Research**"
   ]
  },
  {
   "cell_type": "code",
   "execution_count": 15,
   "metadata": {},
   "outputs": [
    {
     "data": {
      "text/plain": [
       "count    31.000000\n",
       "mean      3.073226\n",
       "std       5.096175\n",
       "min      -5.870000\n",
       "25%      -0.290000\n",
       "50%       2.630000\n",
       "75%       6.060000\n",
       "max      15.610000\n",
       "Name: bias, dtype: float64"
      ]
     },
     "execution_count": 15,
     "metadata": {},
     "output_type": "execute_result"
    }
   ],
   "source": [
    "df.loc[(df.pollster == 'Fox News/Beacon Research/Shaw & Co. Research')]['bias'].describe()"
   ]
  },
  {
   "cell_type": "code",
   "execution_count": null,
   "metadata": {},
   "outputs": [],
   "source": []
  },
  {
   "cell_type": "markdown",
   "metadata": {},
   "source": [
    "👉 **Brown University**"
   ]
  },
  {
   "cell_type": "code",
   "execution_count": 16,
   "metadata": {},
   "outputs": [
    {
     "data": {
      "text/plain": [
       "count     7.000000\n",
       "mean     -2.212857\n",
       "std      10.138818\n",
       "min     -11.080000\n",
       "25%      -9.060000\n",
       "50%      -5.570000\n",
       "75%       1.380000\n",
       "max      16.520000\n",
       "Name: bias, dtype: float64"
      ]
     },
     "execution_count": 16,
     "metadata": {},
     "output_type": "execute_result"
    }
   ],
   "source": [
    "df.loc[(df.pollster == 'Brown University')]['bias'].describe()"
   ]
  },
  {
   "cell_type": "code",
   "execution_count": null,
   "metadata": {},
   "outputs": [],
   "source": []
  },
  {
   "cell_type": "markdown",
   "metadata": {},
   "source": [
    "👉 **American Research Group**"
   ]
  },
  {
   "cell_type": "code",
   "execution_count": 17,
   "metadata": {},
   "outputs": [
    {
     "data": {
      "text/plain": [
       "count    86.000000\n",
       "mean      0.113023\n",
       "std       5.737122\n",
       "min     -10.100000\n",
       "25%      -3.502500\n",
       "50%      -0.560000\n",
       "75%       2.825000\n",
       "max      26.760000\n",
       "Name: bias, dtype: float64"
      ]
     },
     "execution_count": 17,
     "metadata": {},
     "output_type": "execute_result"
    }
   ],
   "source": [
    "df.loc[(df.pollster == 'American Research Group')]['bias'].describe()"
   ]
  },
  {
   "cell_type": "code",
   "execution_count": null,
   "metadata": {},
   "outputs": [],
   "source": []
  },
  {
   "cell_type": "markdown",
   "metadata": {},
   "source": [
    "### Question 2: Which pollsters are the most accurate? Which are the least accurate?"
   ]
  },
  {
   "cell_type": "markdown",
   "metadata": {},
   "source": [
    "👉 Which pollsters are the most accurate?"
   ]
  },
  {
   "cell_type": "markdown",
   "metadata": {},
   "source": [
    "The Upshot is the most accurate. Its mean, and median are relatively low, and its max and min are also close to 0."
   ]
  },
  {
   "cell_type": "code",
   "execution_count": null,
   "metadata": {},
   "outputs": [],
   "source": []
  },
  {
   "cell_type": "code",
   "execution_count": null,
   "metadata": {},
   "outputs": [],
   "source": []
  },
  {
   "cell_type": "markdown",
   "metadata": {},
   "source": [
    "👉 Which are the least accurate?"
   ]
  },
  {
   "cell_type": "markdown",
   "metadata": {},
   "source": [
    "Jayhawk is the least accurate. Its prediction is way off. However, we are not to be able to say it for sure as only 2 of its polls were recorded."
   ]
  },
  {
   "cell_type": "code",
   "execution_count": null,
   "metadata": {},
   "outputs": [],
   "source": []
  },
  {
   "cell_type": "code",
   "execution_count": null,
   "metadata": {},
   "outputs": [],
   "source": []
  },
  {
   "cell_type": "markdown",
   "metadata": {},
   "source": [
    "### Question 2 Reflections"
   ]
  },
  {
   "cell_type": "markdown",
   "metadata": {},
   "source": [
    "👉 Write a summary paragraph explaining how you decided what constitutes “most accurate” and \"least accurate\"?\n"
   ]
  },
  {
   "cell_type": "markdown",
   "metadata": {},
   "source": [
    "There are several points to consider. First of all, its median and mean should be as close to 0 as possible, showing that its prediction lies close to the right answer. Also, the sd should be reasonably small, so that as many attempts are mostly accurate as possible. Lastly, I will see the min and max, figure out whether if the database have a possible outlier, and how far are these outliers.  "
   ]
  },
  {
   "cell_type": "markdown",
   "metadata": {},
   "source": [
    "👉 In bullet point form, name **methodological choices** you made in the process of determining which pollsters were the most and least accurate.\n"
   ]
  },
  {
   "cell_type": "markdown",
   "metadata": {},
   "source": [
    "I was trying to determine the accuracy of these pollsters through its mean, median, 25% and 75% value. In general, the closer the mean and median is to 0, and the smaller the range of the IQR means the pollster is more accurate in terms of the prediction."
   ]
  },
  {
   "cell_type": "markdown",
   "metadata": {},
   "source": [
    "👉 In bullet point form, list the **limitations** of your approach \n"
   ]
  },
  {
   "cell_type": "markdown",
   "metadata": {},
   "source": [
    "My approach is a result based on numbers alone. Without the graph for varification, I am uncertain if the database have any special distributions. Also, The conductor with fewer attempts might be disadvantaged because its data are more likely to be influenced by the outliers."
   ]
  },
  {
   "cell_type": "code",
   "execution_count": null,
   "metadata": {},
   "outputs": [],
   "source": []
  }
 ],
 "metadata": {
  "kernelspec": {
   "display_name": "Python 3 (ipykernel)",
   "language": "python",
   "name": "python3"
  },
  "language_info": {
   "codemirror_mode": {
    "name": "ipython",
    "version": 3
   },
   "file_extension": ".py",
   "mimetype": "text/x-python",
   "name": "python",
   "nbconvert_exporter": "python",
   "pygments_lexer": "ipython3",
   "version": "3.11.0rc2"
  },
  "vscode": {
   "interpreter": {
    "hash": "34166945ca6cc351f9d38b360afe1a928411c84fd696a9e2d08d61ef3f7e4692"
   }
  }
 },
 "nbformat": 4,
 "nbformat_minor": 4
}
